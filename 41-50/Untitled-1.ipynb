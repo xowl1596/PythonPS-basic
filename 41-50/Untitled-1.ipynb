{
 "cells": [
  {
   "cell_type": "code",
   "execution_count": 27,
   "metadata": {},
   "outputs": [
    {
     "name": "stdout",
     "output_type": "stream",
     "text": [
      "1\n"
     ]
    }
   ],
   "source": [
    "# map = [[3,6,2,8],\n",
    "#        [7,3,4,2],\n",
    "#        [8,6,7,3],\n",
    "#        [5,3,2,9]]\n",
    "map = [[2,1,2,1],\n",
    "       [1,2,1,1],\n",
    "       [2,1,1,1],\n",
    "       [1,1,1,1]]\n",
    "def checkDangerZone(x, y) : \n",
    "    global map \n",
    "    result = False\n",
    "    \n",
    "    current = map[x][y]\n",
    "    #가로 지형 판단.    \n",
    "    if x == 0 or x == 3 : \n",
    "        if x == 0 and current >= map[x+1][y]  : #x좌표가 0 => 오른쪽만 판단.\n",
    "            return False\n",
    "        elif x == 3 and current >= map[x-1][y] : #x좌표가 0 => 왼쪽만 판단.\n",
    "            return False\n",
    "    elif current >= map[x+1][y] or current >= map[x-1][y] : \n",
    "        return False#그 외 : 양쪽 모두 판단.\n",
    "\n",
    "    #세로 지형 판단.\n",
    "    if y == 0 or y == 3 : \n",
    "        if y == 0 and current >= map[x][y+1]  : #y좌표가 0 => 아래쪽만 판단.\n",
    "            return False\n",
    "        elif y == 3 and current >= map[x][y-1] : #y좌표가 3 => 위쪽만 판단.\n",
    "            return False\n",
    "    elif current >= map[x][y-1] or current >= map[x][y+1] : #그 외 : 양쪽 모두 판단.\n",
    "        return False\n",
    "\n",
    "    return True\n",
    "\n",
    "count = 0\n",
    "for x in range(4) :\n",
    "    for y in range(4) :\n",
    "        if checkDangerZone(x, y) :\n",
    "            count += 1\n",
    "\n",
    "print(count)"
   ]
  }
 ],
 "metadata": {
  "interpreter": {
   "hash": "5a80d579cf05bdde2c47d4999fc5bc26448637fbb660efea759c3405876a78e9"
  },
  "kernelspec": {
   "display_name": "Python 3.9.1 64-bit",
   "name": "python3"
  },
  "language_info": {
   "codemirror_mode": {
    "name": "ipython",
    "version": 3
   },
   "file_extension": ".py",
   "mimetype": "text/x-python",
   "name": "python",
   "nbconvert_exporter": "python",
   "pygments_lexer": "ipython3",
   "version": "3.9.1"
  },
  "orig_nbformat": 4
 },
 "nbformat": 4,
 "nbformat_minor": 2
}
